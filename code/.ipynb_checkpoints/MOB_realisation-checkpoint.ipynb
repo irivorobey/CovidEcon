{
 "cells": [
  {
   "cell_type": "code",
   "execution_count": 1,
   "metadata": {},
   "outputs": [],
   "source": [
    "import pandas as pd\n",
    "import numpy as np\n",
    "import plotly.express as px"
   ]
  },
  {
   "cell_type": "code",
   "execution_count": 10,
   "metadata": {},
   "outputs": [
    {
     "data": {
      "text/html": [
       "<div>\n",
       "<style scoped>\n",
       "    .dataframe tbody tr th:only-of-type {\n",
       "        vertical-align: middle;\n",
       "    }\n",
       "\n",
       "    .dataframe tbody tr th {\n",
       "        vertical-align: top;\n",
       "    }\n",
       "\n",
       "    .dataframe thead th {\n",
       "        text-align: right;\n",
       "    }\n",
       "</style>\n",
       "<table border=\"1\" class=\"dataframe\">\n",
       "  <thead>\n",
       "    <tr style=\"text-align: right;\">\n",
       "      <th></th>\n",
       "      <th>0</th>\n",
       "      <th>1</th>\n",
       "      <th>2</th>\n",
       "      <th>3</th>\n",
       "      <th>use</th>\n",
       "    </tr>\n",
       "  </thead>\n",
       "  <tbody>\n",
       "    <tr>\n",
       "      <th>0</th>\n",
       "      <td>7686.250382</td>\n",
       "      <td>266.305758</td>\n",
       "      <td>7643.125533</td>\n",
       "      <td>4.545144e+04</td>\n",
       "      <td>3.691879e+05</td>\n",
       "    </tr>\n",
       "    <tr>\n",
       "      <th>1</th>\n",
       "      <td>70.542291</td>\n",
       "      <td>398.995192</td>\n",
       "      <td>27.212807</td>\n",
       "      <td>8.220046e+02</td>\n",
       "      <td>6.127853e+04</td>\n",
       "    </tr>\n",
       "    <tr>\n",
       "      <th>2</th>\n",
       "      <td>425.814798</td>\n",
       "      <td>525.167536</td>\n",
       "      <td>1651.777508</td>\n",
       "      <td>1.162695e+04</td>\n",
       "      <td>1.496661e+05</td>\n",
       "    </tr>\n",
       "    <tr>\n",
       "      <th>3</th>\n",
       "      <td>69231.982577</td>\n",
       "      <td>3329.500513</td>\n",
       "      <td>33702.867609</td>\n",
       "      <td>3.768390e+05</td>\n",
       "      <td>1.674587e+06</td>\n",
       "    </tr>\n",
       "    <tr>\n",
       "      <th>4</th>\n",
       "      <td>108236.736497</td>\n",
       "      <td>6548.675952</td>\n",
       "      <td>48149.634214</td>\n",
       "      <td>6.303317e+05</td>\n",
       "      <td>0.000000e+00</td>\n",
       "    </tr>\n",
       "    <tr>\n",
       "      <th>5</th>\n",
       "      <td>244583.680000</td>\n",
       "      <td>51528.640000</td>\n",
       "      <td>72721.190000</td>\n",
       "      <td>1.092620e+06</td>\n",
       "      <td>0.000000e+00</td>\n",
       "    </tr>\n",
       "  </tbody>\n",
       "</table>\n",
       "</div>"
      ],
      "text/plain": [
       "               0             1             2             3           use\n",
       "0    7686.250382    266.305758   7643.125533  4.545144e+04  3.691879e+05\n",
       "1      70.542291    398.995192     27.212807  8.220046e+02  6.127853e+04\n",
       "2     425.814798    525.167536   1651.777508  1.162695e+04  1.496661e+05\n",
       "3   69231.982577   3329.500513  33702.867609  3.768390e+05  1.674587e+06\n",
       "4  108236.736497   6548.675952  48149.634214  6.303317e+05  0.000000e+00\n",
       "5  244583.680000  51528.640000  72721.190000  1.092620e+06  0.000000e+00"
      ]
     },
     "execution_count": 10,
     "metadata": {},
     "output_type": "execute_result"
    }
   ],
   "source": [
    "df_small = pd.read_csv('../data/df_small_novosib.csv')\n",
    "df_small = df_small.drop(['Unnamed: 0'], axis = 1)\n",
    "df_small"
   ]
  },
  {
   "cell_type": "code",
   "execution_count": 65,
   "metadata": {},
   "outputs": [],
   "source": [
    "A = np.array(df_small)[:-2, :-1]\n",
    "MOB = np.array(df_small)"
   ]
  },
  {
   "cell_type": "code",
   "execution_count": 64,
   "metadata": {},
   "outputs": [],
   "source": [
    "def get_coef(MOB):\n",
    "    Z0 = MOB[:, -1][:-2]\n",
    "    A0 = Z0.sum()\n",
    "    AJ = MOB.sum(0)[:-1]\n",
    "    \n",
    "    a = MOB[:-2, :-1] / np.tile(AJ, (MOB.shape[0] - 2, 1))\n",
    "    b = MOB[-2:, :4] / np.tile(AJ, (2, 1))\n",
    "    a0 = Z0 / A0\n",
    "    \n",
    "    X = MOB[:-2, :-1]\n",
    "    l = MOB[-2:, :-1]\n",
    "    return Z0, A0, AJ, a, b, a0, X, l"
   ]
  },
  {
   "cell_type": "code",
   "execution_count": 78,
   "metadata": {},
   "outputs": [],
   "source": [
    "def get_alpha(X, l, a, b, AJ):\n",
    "    return AJ * (1 / X ** a).prod(0) * (1 / l ** b).prod(0)"
   ]
  },
  {
   "cell_type": "code",
   "execution_count": 67,
   "metadata": {},
   "outputs": [],
   "source": [
    "def get_FJ(X, l, a, b, alpha):\n",
    "    return alpha * (X ** a).prod(0) * (l ** b).prod(0)"
   ]
  },
  {
   "cell_type": "code",
   "execution_count": 82,
   "metadata": {},
   "outputs": [],
   "source": [
    "def get_F0(A0, Z0, a0):\n",
    "    return A0 * (1 / Z0 ** a0).prod() * (Z0 ** a0).prod()"
   ]
  },
  {
   "cell_type": "code",
   "execution_count": 77,
   "metadata": {},
   "outputs": [],
   "source": [
    "def get_GDP(X, FJ, F0, a, A0):\n",
    "    d = np.log(FJ)\n",
    "    mu = -np.linalg.inv(np.eye(X.shape[0]) - X.T) @ d\n",
    "    lam = np.exp((mu * a).sum()) / F0\n",
    "    return A0 / lam"
   ]
  },
  {
   "cell_type": "code",
   "execution_count": 95,
   "metadata": {},
   "outputs": [
    {
     "data": {
      "text/plain": [
       "5077789133179.497"
      ]
     },
     "execution_count": 95,
     "metadata": {},
     "output_type": "execute_result"
    }
   ],
   "source": [
    "Z0, A0, AJ, a, b, a0, X, l = get_coef(MOB)\n",
    "alpha = get_alpha(X, l, a, b, AJ)\n",
    "mask = np.ones(alpha.shape)\n",
    "# mask[0] = 0.6\n",
    "FJ = get_FJ(X, l, a, b, alpha*mask)\n",
    "F0 = get_F0(A0, Z0, a0)\n",
    "get_GDP(X, FJ, F0, a, A0)"
   ]
  }
 ],
 "metadata": {
  "kernelspec": {
   "display_name": "Python 3 (ipykernel)",
   "language": "python",
   "name": "python3"
  },
  "language_info": {
   "codemirror_mode": {
    "name": "ipython",
    "version": 3
   },
   "file_extension": ".py",
   "mimetype": "text/x-python",
   "name": "python",
   "nbconvert_exporter": "python",
   "pygments_lexer": "ipython3",
   "version": "3.8.3"
  }
 },
 "nbformat": 4,
 "nbformat_minor": 4
}
